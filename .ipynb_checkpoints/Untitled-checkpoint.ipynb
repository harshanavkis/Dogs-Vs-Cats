{
 "cells": [
  {
   "cell_type": "code",
   "execution_count": 1,
   "metadata": {
    "collapsed": true
   },
   "outputs": [],
   "source": [
    "import tensorflow as tf\n",
    "import numpy as np\n",
    "import matplotlib.pyplot as plt\n",
    "import os\n",
    "import cv2\n",
    "import pandas as pd"
   ]
  },
  {
   "cell_type": "markdown",
   "metadata": {
    "collapsed": true
   },
   "source": [
    "Image Preprocessing\n",
    "-------------------"
   ]
  },
  {
   "cell_type": "code",
   "execution_count": 2,
   "metadata": {
    "collapsed": true
   },
   "outputs": [],
   "source": [
    "#function to resize images\n",
    "#since all the images are of different sizes\n",
    "#the convet designed here requires all images to be of same size\n",
    "input_image_size = 96\n",
    "input_image_size = 96\n",
    "def resize_image(image,image_size=input_image_size):\n",
    "    image = cv2.resize(image,(image_size,image_size),cv2.INTER_AREA)\n",
    "    return image"
   ]
  },
  {
   "cell_type": "markdown",
   "metadata": {},
   "source": [
    "Helper Functions\n",
    "----------------"
   ]
  },
  {
   "cell_type": "code",
   "execution_count": 3,
   "metadata": {
    "collapsed": true
   },
   "outputs": [],
   "source": [
    "#function to create labels for the training and test set\n",
    "def get_image_label(img):\n",
    "    #img is the name of the file\n",
    "    parts = img.split('.')\n",
    "    if parts[0]=='cat':\n",
    "        return [1,0]\n",
    "    if parts[0]=='dog':\n",
    "        return [0,1]"
   ]
  },
  {
   "cell_type": "code",
   "execution_count": 4,
   "metadata": {
    "collapsed": false
   },
   "outputs": [],
   "source": [
    "def process_image(img):\n",
    "    #img is the full path to the image\n",
    "    image = cv2.imread(img,cv2.IMREAD_COLOR)\n",
    "    image = cv2.cvtColor(image,cv2.COLOR_BGR2GRAY)\n",
    "    image = resize_image(image)\n",
    "    parts = img.split('\\\\')\n",
    "    label = get_image_label(parts[-1])\n",
    "    return image,label"
   ]
  },
  {
   "cell_type": "code",
   "execution_count": 5,
   "metadata": {
    "collapsed": false
   },
   "outputs": [
    {
     "name": "stdout",
     "output_type": "stream",
     "text": [
      "data\\train\\cat.0.jpg\n"
     ]
    },
    {
     "data": {
      "image/png": "[encoded data removed]",
      "text/plain": [
       "<matplotlib.figure.Figure at 0xa5ab677c50>"
      ]
     },
     "metadata": {},
     "output_type": "display_data"
    }
   ],
   "source": [
    "#test out the above functions\n",
    "%matplotlib inline\n",
    "filePath = os.path.join('data','train','cat.0.jpg')\n",
    "print(filePath)\n",
    "image,label = process_image(filePath)\n",
    "plt.imshow(image,'gray')\n",
    "if label[0]==1:\n",
    "    plt.title('cat')\n",
    "else:\n",
    "    plt.title('dog')"
   ]
  },
  {
   "cell_type": "markdown",
   "metadata": {},
   "source": [
    "Convolution Network Architecture\n",
    "----------------------------------"
   ]
  },
  {
   "cell_type": "code",
   "execution_count": 6,
   "metadata": {
    "collapsed": true
   },
   "outputs": [],
   "source": [
    "#conv layer 1\n",
    "filter_size1 = 3 #filter size is 3x3 for the first layer\n",
    "num_filters1 = 16 #output of this layer will be of depth 16\n",
    "padding1 = 1\n",
    "stride1 = 1\n",
    "\n",
    "#conv layer 2\n",
    "filter_size2 = 5 #filter size is 5x5 for this layer\n",
    "num_filters2 = 32#output of this layer will be of depth 32\n",
    "padding2 = 0\n",
    "stride2 = 1\n",
    "\n",
    "#conv_layer 3\n",
    "filter_size3=3\n",
    "num_filters3 = 32\n",
    "padding3 = 0\n",
    "stride3 = 1\n",
    "\n",
    "#pooling layers\n",
    "pool_size = 2\n",
    "stride_pool = 2\n",
    "\n",
    "#fully connected layers\n",
    "fc1_size = 1024\n",
    "fc2_size = 2"
   ]
  },
  {
   "cell_type": "markdown",
   "metadata": {},
   "source": [
    "Dimensions of the changed Input Data\n",
    "-------------------------------------"
   ]
  },
  {
   "cell_type": "code",
   "execution_count": 7,
   "metadata": {
    "collapsed": true
   },
   "outputs": [],
   "source": [
    "image_size = 96 #size of the reshaped image\n",
    "image_size_flat =image_size*image_size #all pixel values rolled out into a vector\n",
    "image_shape = (image_size,image_size) #for resizing the image\n",
    "num_channels = 1 #we are loading a grayscale image\n",
    "num_classes = 2 #only two classes: Cats and Dogs"
   ]
  },
  {
   "cell_type": "markdown",
   "metadata": {},
   "source": [
    "Function to plot images\n",
    "-------------------------"
   ]
  },
  {
   "cell_type": "code",
   "execution_count": 8,
   "metadata": {
    "collapsed": true
   },
   "outputs": [],
   "source": [
    "def plot_image(fileList,PredCls=None):\n",
    "    assert len(fileList) == 9\n",
    "    fig,axes = plt.subplots(3,3)\n",
    "    fig.subplots_adjust(hspace=0.3,wspace=0.3)\n",
    "    \n",
    "    for i,ax in enumerate(axes.flat):\n",
    "        image,label = process_image(fileList[i])\n",
    "        ax.imshow(image,'gray')\n",
    "        \n",
    "        if PredCls ==  None:\n",
    "            xlabel = \"True: {0}\".format(label)\n",
    "        else:\n",
    "            xlabel = \"True: {0}, Pred: {1}\".format(label, cls_pred[i])\n",
    "        ax.set_xlabel(xlabel)\n",
    "        ax.set_xticks([])\n",
    "        ax.set_yticks([])\n",
    "    plt.show()"
   ]
  },
  {
   "cell_type": "code",
   "execution_count": 9,
   "metadata": {
    "collapsed": false
   },
   "outputs": [
    {
     "data": {
      "image/png": "[encoded data removed]",
      "text/plain": [
       "<matplotlib.figure.Figure at 0xa5ab897320>"
      ]
     },
     "metadata": {},
     "output_type": "display_data"
    }
   ],
   "source": [
    "#to test the above function\n",
    "fileList = []\n",
    "cat=0\n",
    "dog=1\n",
    "for i in range(9):\n",
    "    animal = np.random.randint(0,2)\n",
    "    if animal == cat:\n",
    "        path = os.path.join(\"data\",\"train\",\"cat.\"+str(i)+\".jpg\")\n",
    "        fileList.append(path)\n",
    "    else:\n",
    "        path = os.path.join(\"data\",\"train\",\"dog.\"+str(i)+\".jpg\")\n",
    "        fileList.append(path)\n",
    "plot_image(fileList)"
   ]
  },
  {
   "cell_type": "markdown",
   "metadata": {
    "collapsed": true
   },
   "source": [
    "TensorFlow Graph\n",
    "----------------"
   ]
  },
  {
   "cell_type": "code",
   "execution_count": 10,
   "metadata": {
    "collapsed": true
   },
   "outputs": [],
   "source": [
    "#functions to create new variables\n",
    "def new_weights(shape):\n",
    "    return tf.Variable(tf.truncated_normal(shape,stddev=0.05))\n",
    "\n",
    "def new_biases(length):\n",
    "    return tf.Variable(tf.constant(0.05,shape=[length]))"
   ]
  },
  {
   "cell_type": "code",
   "execution_count": 11,
   "metadata": {
    "collapsed": false
   },
   "outputs": [],
   "source": [
    "#function to create a convolutional layer\n",
    "#input=[image number,rows,columns,channels]\n",
    "#output=[image number,r',c',ch']\n",
    "#layer : conv->relu->pool\n",
    "def new_conv_layer(input,num_input_channels,filter_size,num_filters,retain_dimension=False,use_pooling=True):\n",
    "    #shape of filters as defined by tensorflow api\n",
    "    shape = [filter_size,filter_size,num_input_channels,num_filters]\n",
    "    weights = new_weights(shape=shape)\n",
    "    bias = new_biases(length=num_filters)\n",
    "    \n",
    "    #set padding\n",
    "    if retain_dimension:\n",
    "        #padded_input = tf.pad(input,[[0,0],[1,1],[1,1],[0,0]],\"CONSTANT\")\n",
    "        layer = tf.nn.conv2d(input=input,filter=weights,strides=[1,1,1,1],padding='SAME')\n",
    "        #add bias\n",
    "        layer+=bias\n",
    "        layer = tf.nn.relu(layer)\n",
    "        if use_pooling:\n",
    "            layer = tf.nn.max_pool(value=layer,ksize=[1,2,2,1],strides=[1,2,2,1],padding='SAME')\n",
    "        return layer,weights\n",
    "    \n",
    "    else:\n",
    "        layer = tf.nn.conv2d(input=input,filter=weights,strides=[1,1,1,1],padding='VALID')\n",
    "        layer+=bias\n",
    "        layer=tf.nn.relu(layer)\n",
    "        if use_pooling:\n",
    "            layer = tf.nn.max_pool(value=layer,ksize=[1,2,2,1],strides=[1,2,2,1],padding='SAME')\n",
    "        return layer,weights"
   ]
  },
  {
   "cell_type": "code",
   "execution_count": 12,
   "metadata": {
    "collapsed": true
   },
   "outputs": [],
   "source": [
    "#function to flatten 4d tensor to 2d tensor\n",
    "#to feed into fully connected layer\n",
    "def flatten(layer):\n",
    "    layer_shape = layer.get_shape()\n",
    "    #shape is assumed to be as in the function above\n",
    "    #features = rows*columns*num_channels\n",
    "    num_features = layer_shape[1:4].num_elements()\n",
    "    \n",
    "    #reshape the layer -> [num_images,num_features]\n",
    "    layer_flat = tf.reshape(layer,[-1,num_features])\n",
    "    return layer_flat,num_features"
   ]
  },
  {
   "cell_type": "code",
   "execution_count": 13,
   "metadata": {
    "collapsed": true
   },
   "outputs": [],
   "source": [
    "#function to create fully connected layer\n",
    "def new_fc_layer(input,num_inputs,num_outputs,use_relu=True):\n",
    "    weights = new_weights(shape = [num_inputs,num_outputs])\n",
    "    biases = new_biases(length=num_outputs)\n",
    "    layer = tf.matmul(input,weights)+biases\n",
    "    if use_relu:\n",
    "        layer = tf.nn.relu(layer)\n",
    "    return layer"
   ]
  },
  {
   "cell_type": "code",
   "execution_count": 14,
   "metadata": {
    "collapsed": false
   },
   "outputs": [
    {
     "name": "stdout",
     "output_type": "stream",
     "text": [
      "Tensor(\"x:0\", shape=(?, 96, 96, 1), dtype=float32)\n",
      "Tensor(\"y_true:0\", shape=(?, 2), dtype=float32)\n",
      "Tensor(\"ArgMax:0\", shape=(?,), dtype=int64)\n"
     ]
    }
   ],
   "source": [
    "#placeholder for input and output\n",
    "#x = tf.placeholder(tf.float32,shape=[None,image_size_flat],name='x')\n",
    "x = tf.placeholder(tf.float32, shape=[None, image_size, image_size, num_channels],name='x')\n",
    "y_true = tf.placeholder(tf.float32,shape=[None,num_classes],name = 'y_true')\n",
    "y_true_class = tf.argmax(y_true,dimension=1)\n",
    "print(x)\n",
    "print(y_true)\n",
    "print(y_true_class)"
   ]
  },
  {
   "cell_type": "markdown",
   "metadata": {},
   "source": [
    "Convolutional Layer 1\n",
    "----------------------"
   ]
  },
  {
   "cell_type": "code",
   "execution_count": 15,
   "metadata": {
    "collapsed": false
   },
   "outputs": [],
   "source": [
    "conv_layer1,conv_weights1 = new_conv_layer(input=x,num_input_channels=num_channels,filter_size=filter_size1,num_filters=num_filters1,retain_dimension=True,use_pooling=True)"
   ]
  },
  {
   "cell_type": "code",
   "execution_count": 16,
   "metadata": {
    "collapsed": false
   },
   "outputs": [
    {
     "data": {
      "text/plain": [
       "<tf.Tensor 'MaxPool:0' shape=(?, 48, 48, 16) dtype=float32>"
      ]
     },
     "execution_count": 16,
     "metadata": {},
     "output_type": "execute_result"
    }
   ],
   "source": [
    "conv_layer1"
   ]
  },
  {
   "cell_type": "code",
   "execution_count": 17,
   "metadata": {
    "collapsed": false
   },
   "outputs": [
    {
     "data": {
      "text/plain": [
       "<tf.Variable 'Variable:0' shape=(3, 3, 1, 16) dtype=float32_ref>"
      ]
     },
     "execution_count": 17,
     "metadata": {},
     "output_type": "execute_result"
    }
   ],
   "source": [
    "conv_weights1"
   ]
  },
  {
   "cell_type": "markdown",
   "metadata": {},
   "source": [
    "Convolutional Layer 2\n",
    "---------------------"
   ]
  },
  {
   "cell_type": "code",
   "execution_count": 18,
   "metadata": {
    "collapsed": true
   },
   "outputs": [],
   "source": [
    "conv_layer2,conv_weights2 = new_conv_layer(input=conv_layer1,num_input_channels=num_filters1,filter_size=filter_size2,num_filters = num_filters2,retain_dimension=False,use_pooling=True)"
   ]
  },
  {
   "cell_type": "code",
   "execution_count": 19,
   "metadata": {
    "collapsed": false
   },
   "outputs": [
    {
     "data": {
      "text/plain": [
       "<tf.Tensor 'MaxPool_1:0' shape=(?, 22, 22, 32) dtype=float32>"
      ]
     },
     "execution_count": 19,
     "metadata": {},
     "output_type": "execute_result"
    }
   ],
   "source": [
    "conv_layer2"
   ]
  },
  {
   "cell_type": "code",
   "execution_count": 20,
   "metadata": {
    "collapsed": false
   },
   "outputs": [
    {
     "data": {
      "text/plain": [
       "<tf.Variable 'Variable_2:0' shape=(5, 5, 16, 32) dtype=float32_ref>"
      ]
     },
     "execution_count": 20,
     "metadata": {},
     "output_type": "execute_result"
    }
   ],
   "source": [
    "conv_weights2"
   ]
  },
  {
   "cell_type": "markdown",
   "metadata": {},
   "source": [
    "Convolutional Layer 3\n",
    "---------------------"
   ]
  },
  {
   "cell_type": "code",
   "execution_count": 21,
   "metadata": {
    "collapsed": false
   },
   "outputs": [],
   "source": [
    "conv_layer3,conv_weights3 = new_conv_layer(input=conv_layer2,num_input_channels=num_filters2,filter_size=filter_size3,num_filters = num_filters3,retain_dimension=False,use_pooling=True)"
   ]
  },
  {
   "cell_type": "code",
   "execution_count": 22,
   "metadata": {
    "collapsed": false
   },
   "outputs": [
    {
     "data": {
      "text/plain": [
       "<tf.Tensor 'MaxPool_2:0' shape=(?, 10, 10, 32) dtype=float32>"
      ]
     },
     "execution_count": 22,
     "metadata": {},
     "output_type": "execute_result"
    }
   ],
   "source": [
    "conv_layer3"
   ]
  },
  {
   "cell_type": "markdown",
   "metadata": {},
   "source": [
    "Flatten the convolution output\n",
    "-------------------------------"
   ]
  },
  {
   "cell_type": "code",
   "execution_count": 23,
   "metadata": {
    "collapsed": true
   },
   "outputs": [],
   "source": [
    "flat_layer1,num_features = flatten(conv_layer3)"
   ]
  },
  {
   "cell_type": "code",
   "execution_count": 24,
   "metadata": {
    "collapsed": false
   },
   "outputs": [
    {
     "data": {
      "text/plain": [
       "<tf.Tensor 'Reshape:0' shape=(?, 3200) dtype=float32>"
      ]
     },
     "execution_count": 24,
     "metadata": {},
     "output_type": "execute_result"
    }
   ],
   "source": [
    "flat_layer1"
   ]
  },
  {
   "cell_type": "code",
   "execution_count": 25,
   "metadata": {
    "collapsed": false
   },
   "outputs": [
    {
     "data": {
      "text/plain": [
       "3200"
      ]
     },
     "execution_count": 25,
     "metadata": {},
     "output_type": "execute_result"
    }
   ],
   "source": [
    "num_features"
   ]
  },
  {
   "cell_type": "markdown",
   "metadata": {},
   "source": [
    "Fully connected Layer 1\n",
    "-----------------------"
   ]
  },
  {
   "cell_type": "code",
   "execution_count": 26,
   "metadata": {
    "collapsed": true
   },
   "outputs": [],
   "source": [
    "fc_layer1 = new_fc_layer(input=flat_layer1,num_inputs=num_features,num_outputs=fc1_size,use_relu=True)"
   ]
  },
  {
   "cell_type": "code",
   "execution_count": 27,
   "metadata": {
    "collapsed": false
   },
   "outputs": [
    {
     "data": {
      "text/plain": [
       "<tf.Tensor 'Relu_3:0' shape=(?, 1024) dtype=float32>"
      ]
     },
     "execution_count": 27,
     "metadata": {},
     "output_type": "execute_result"
    }
   ],
   "source": [
    "fc_layer1"
   ]
  },
  {
   "cell_type": "markdown",
   "metadata": {},
   "source": [
    "Fully connected Layer 2\n",
    "-----------------------"
   ]
  },
  {
   "cell_type": "code",
   "execution_count": 28,
   "metadata": {
    "collapsed": true
   },
   "outputs": [],
   "source": [
    "fc_layer2 = new_fc_layer(input=fc_layer1,num_inputs=fc1_size,num_outputs=fc2_size,use_relu=True)"
   ]
  },
  {
   "cell_type": "code",
   "execution_count": 29,
   "metadata": {
    "collapsed": false
   },
   "outputs": [
    {
     "data": {
      "text/plain": [
       "<tf.Tensor 'Relu_4:0' shape=(?, 2) dtype=float32>"
      ]
     },
     "execution_count": 29,
     "metadata": {},
     "output_type": "execute_result"
    }
   ],
   "source": [
    "fc_layer2"
   ]
  },
  {
   "cell_type": "markdown",
   "metadata": {},
   "source": [
    "Prediction\n",
    "-----------"
   ]
  },
  {
   "cell_type": "code",
   "execution_count": 30,
   "metadata": {
    "collapsed": false
   },
   "outputs": [
    {
     "name": "stdout",
     "output_type": "stream",
     "text": [
      "Tensor(\"Softmax:0\", shape=(?, 2), dtype=float32)\n"
     ]
    }
   ],
   "source": [
    "y_pred = tf.nn.softmax(fc_layer2)\n",
    "print(y_pred)"
   ]
  },
  {
   "cell_type": "code",
   "execution_count": 31,
   "metadata": {
    "collapsed": true
   },
   "outputs": [],
   "source": [
    "y_pred_cls = tf.argmax(y_pred,dimension=1)"
   ]
  },
  {
   "cell_type": "code",
   "execution_count": 32,
   "metadata": {
    "collapsed": false
   },
   "outputs": [
    {
     "data": {
      "text/plain": [
       "<tf.Tensor 'ArgMax_1:0' shape=(?,) dtype=int64>"
      ]
     },
     "execution_count": 32,
     "metadata": {},
     "output_type": "execute_result"
    }
   ],
   "source": [
    "y_pred_cls"
   ]
  },
  {
   "cell_type": "markdown",
   "metadata": {},
   "source": [
    "Cost function\n",
    "-------------"
   ]
  },
  {
   "cell_type": "code",
   "execution_count": 33,
   "metadata": {
    "collapsed": true
   },
   "outputs": [],
   "source": [
    "#cross entropy loss function\n",
    "cross_entropy = tf.nn.softmax_cross_entropy_with_logits(logits=fc_layer2,labels=y_true)"
   ]
  },
  {
   "cell_type": "code",
   "execution_count": 34,
   "metadata": {
    "collapsed": true
   },
   "outputs": [],
   "source": [
    "cost = tf.reduce_mean(cross_entropy)"
   ]
  },
  {
   "cell_type": "markdown",
   "metadata": {},
   "source": [
    "Optimization\n",
    "------------"
   ]
  },
  {
   "cell_type": "code",
   "execution_count": 35,
   "metadata": {
    "collapsed": true
   },
   "outputs": [],
   "source": [
    "optimizer = tf.train.AdamOptimizer(learning_rate=1e-4).minimize(cost)"
   ]
  },
  {
   "cell_type": "code",
   "execution_count": 36,
   "metadata": {
    "collapsed": false
   },
   "outputs": [],
   "source": [
    "correct_prediction = tf.equal(y_pred_cls,y_true_class)\n",
    "accuracy = tf.reduce_mean(tf.cast(correct_prediction,tf.float32))"
   ]
  },
  {
   "cell_type": "markdown",
   "metadata": {},
   "source": [
    "Run the TensorFlow Session\n",
    "---------------------------"
   ]
  },
  {
   "cell_type": "code",
   "execution_count": 37,
   "metadata": {
    "collapsed": true
   },
   "outputs": [],
   "source": [
    "session = tf.Session()"
   ]
  },
  {
   "cell_type": "code",
   "execution_count": 38,
   "metadata": {
    "collapsed": true
   },
   "outputs": [],
   "source": [
    "#initialize all global variable\n",
    "session.run(tf.global_variables_initializer())"
   ]
  },
  {
   "cell_type": "code",
   "execution_count": 39,
   "metadata": {
    "collapsed": true
   },
   "outputs": [],
   "source": [
    "train_batch_size = 128"
   ]
  },
  {
   "cell_type": "code",
   "execution_count": 40,
   "metadata": {
    "collapsed": true
   },
   "outputs": [],
   "source": [
    "total_number_images = 12500 #for both cats and dogs\n",
    "test_images = 20000 #including both cats and dogs\n",
    "validation_images = 5000 #1250 from each of the cats and dogs"
   ]
  },
  {
   "cell_type": "code",
   "execution_count": 41,
   "metadata": {
    "collapsed": true
   },
   "outputs": [],
   "source": [
    "cat =0\n",
    "dog =1\n",
    "def create_training_batch(fileList,batchSize):\n",
    "    shuffledList = fileList\n",
    "    np.random.shuffle(shuffledList)\n",
    "    batchImg=[]\n",
    "    batchLabel=[]\n",
    "    temp = shuffledList[:batchSize]\n",
    "    for i in range(len(temp)):\n",
    "        image,label = process_image(temp[i])\n",
    "        batchImg.append(image)\n",
    "        batchLabel.append(label)\n",
    "    return batchImg,batchLabel"
   ]
  },
  {
   "cell_type": "code",
   "execution_count": 42,
   "metadata": {
    "collapsed": true
   },
   "outputs": [],
   "source": [
    "#create training file list\n",
    "trainList=[]\n",
    "for i in range(20000):\n",
    "    label = np.random.randint(0,2)\n",
    "    cls = \"\"\n",
    "    if label is 0:\n",
    "        cls = \"cat\"\n",
    "    else:\n",
    "        cls = \"dog\"\n",
    "    imgnum = np.random.randint(0,10000)\n",
    "    path = os.path.join(\"data\",\"train\",cls+\".\"+str(imgnum)+\".jpg\")\n",
    "    trainList.append(path)"
   ]
  },
  {
   "cell_type": "code",
   "execution_count": 43,
   "metadata": {
    "collapsed": false
   },
   "outputs": [
    {
     "data": {
      "text/plain": [
       "20000"
      ]
     },
     "execution_count": 43,
     "metadata": {},
     "output_type": "execute_result"
    }
   ],
   "source": [
    "len(trainList)"
   ]
  },
  {
   "cell_type": "code",
   "execution_count": 44,
   "metadata": {
    "collapsed": false
   },
   "outputs": [
    {
     "data": {
      "text/plain": [
       "['data\\\\train\\\\dog.4659.jpg',\n",
       " 'data\\\\train\\\\dog.6555.jpg',\n",
       " 'data\\\\train\\\\dog.1625.jpg',\n",
       " 'data\\\\train\\\\cat.812.jpg',\n",
       " 'data\\\\train\\\\dog.9053.jpg']"
      ]
     },
     "execution_count": 44,
     "metadata": {},
     "output_type": "execute_result"
    }
   ],
   "source": [
    "trainList[:5]"
   ]
  },
  {
   "cell_type": "code",
   "execution_count": 45,
   "metadata": {
    "collapsed": true
   },
   "outputs": [],
   "source": [
    "#create validation list\n",
    "validList=[]\n",
    "for i in range(5000):\n",
    "    label = np.random.randint(0,2)\n",
    "    cls = \"\"\n",
    "    if label is 0:\n",
    "        cls = \"cat\"\n",
    "    else:\n",
    "        cls=\"dog\"\n",
    "    imgnum = np.random.randint(10000,12500)\n",
    "    path = os.path.join(\"data\",\"train\",cls+\".\"+str(imgnum)+\".jpg\")\n",
    "    validList.append(path)"
   ]
  },
  {
   "cell_type": "code",
   "execution_count": 46,
   "metadata": {
    "collapsed": false
   },
   "outputs": [
    {
     "data": {
      "text/plain": [
       "5000"
      ]
     },
     "execution_count": 46,
     "metadata": {},
     "output_type": "execute_result"
    }
   ],
   "source": [
    "len(validList)"
   ]
  },
  {
   "cell_type": "code",
   "execution_count": 47,
   "metadata": {
    "collapsed": false
   },
   "outputs": [
    {
     "data": {
      "text/plain": [
       "['data\\\\train\\\\cat.11180.jpg',\n",
       " 'data\\\\train\\\\cat.11985.jpg',\n",
       " 'data\\\\train\\\\cat.11619.jpg',\n",
       " 'data\\\\train\\\\dog.10214.jpg',\n",
       " 'data\\\\train\\\\cat.10314.jpg']"
      ]
     },
     "execution_count": 47,
     "metadata": {},
     "output_type": "execute_result"
    }
   ],
   "source": [
    "validList[:5]"
   ]
  },
  {
   "cell_type": "code",
   "execution_count": 68,
   "metadata": {
    "collapsed": true
   },
   "outputs": [],
   "source": [
    "total_iterations = 0\n",
    "import time\n",
    "from datetime import timedelta\n",
    "def optimize(num_iterations):\n",
    "    global total_iterations\n",
    "    start = time.time()\n",
    "    for i in range(total_iterations,total_iterations+num_iterations):\n",
    "        x_batch,y_true_batch = create_training_batch(trainList,train_batch_size)\n",
    "        x_batch = np.array([i for i in x_batch]).reshape(-1,image_size,image_size,1)\n",
    "        feed_dict_train = {x:x_batch,y_true:y_true_batch}\n",
    "        session.run(optimizer,feed_dict = feed_dict_train)\n",
    "        \n",
    "        if i%100==0:\n",
    "            acc = session.run(accuracy,feed_dict = feed_dict_train)\n",
    "            msg = \"Optimization iteration:{0:>6}, Training Accuracy:{1:>6.1%}\"\n",
    "            print(msg.format(i+1,acc))\n",
    "    total_iterations += num_iterations\n",
    "    end = time.time()\n",
    "    print(\"Time usage:\"+str(timedelta(seconds=int(round(end-start)))))"
   ]
  },
  {
   "cell_type": "code",
   "execution_count": 66,
   "metadata": {
    "collapsed": false
   },
   "outputs": [],
   "source": [
    "test_batch_size = 256\n",
    "def print_test_accuracy():\n",
    "    validation_data,validation_labels = create_training_batch(validList,len(validList))\n",
    "    num_test = len(validation_data)\n",
    "    cls_pred = np.zeros(shape=num_test,dtype=np.float32)\n",
    "    i=0\n",
    "    while i<num_test:\n",
    "        j=min(i+test_batch_size,num_test)\n",
    "        images = validation_data[i:j]\n",
    "        X = np.array([i for i in images]).reshape(-1,image_size,image_size,1)\n",
    "        labels = validation_labels[i:j]\n",
    "        #Y = [j for j in labels]\n",
    "        feed_dict = {x:X,y_true:labels}\n",
    "        cls_pred[i:j] = session.run(y_pred_cls,feed_dict=feed_dict)\n",
    "        i=j\n",
    "    cls_true =[tf.argmax(i) for i in validation_labels]\n",
    "    correct = (cls_true==cls_pred)\n",
    "    correct_sum = correct.sum()\n",
    "    msg = \"Accuracy on Test-Set: {0:.1%}\"\n",
    "    print(\"Accuracy:%f\"%(correct_sum/num_test))\n",
    "    print(msg.format(correct_sum))"
   ]
  },
  {
   "cell_type": "code",
   "execution_count": 60,
   "metadata": {
    "collapsed": false
   },
   "outputs": [
    {
     "name": "stdout",
     "output_type": "stream",
     "text": [
      "Optimization iteration:     1, Training Accuracy: 49.2%\n",
      "Time usage:0:00:10\n"
     ]
    }
   ],
   "source": [
    "#optimize for one iteration\n",
    "optimize(1)"
   ]
  },
  {
   "cell_type": "code",
   "execution_count": 67,
   "metadata": {
    "collapsed": false
   },
   "outputs": [
    {
     "name": "stdout",
     "output_type": "stream",
     "text": [
      "Time usage:0:00:30\n",
      "Time usage:0:00:42\n",
      "Time usage:0:00:51\n",
      "Time usage:0:01:01\n",
      "Time usage:0:01:10\n",
      "Time usage:0:01:19\n",
      "Time usage:0:01:28\n",
      "Time usage:0:01:40\n",
      "Time usage:0:01:49\n",
      "Time usage:0:01:58\n",
      "Time usage:0:02:07\n",
      "Time usage:0:02:15\n",
      "Time usage:0:02:22\n",
      "Time usage:0:02:30\n",
      "Time usage:0:02:37\n",
      "Time usage:0:02:45\n",
      "Time usage:0:02:52\n",
      "Time usage:0:03:00\n",
      "Time usage:0:03:08\n",
      "Time usage:0:03:15\n",
      "Time usage:0:03:22\n",
      "Time usage:0:03:29\n",
      "Time usage:0:03:36\n",
      "Time usage:0:03:45\n",
      "Time usage:0:03:55\n",
      "Time usage:0:04:05\n",
      "Time usage:0:04:14\n",
      "Time usage:0:04:24\n",
      "Time usage:0:04:32\n",
      "Time usage:0:04:41\n",
      "Time usage:0:04:49\n",
      "Time usage:0:04:57\n",
      "Time usage:0:05:06\n",
      "Time usage:0:05:14\n",
      "Time usage:0:05:21\n",
      "Time usage:0:05:30\n"
     ]
    },
    {
     "ename": "KeyboardInterrupt",
     "evalue": "",
     "output_type": "error",
     "traceback": [
      "\u001b[0;31m---------------------------------------------------------------------------\u001b[0m",
      "\u001b[0;31mKeyboardInterrupt\u001b[0m                         Traceback (most recent call last)",
      "\u001b[0;32m<ipython-input-67-3540088ebbcb>\u001b[0m in \u001b[0;36m<module>\u001b[0;34m()\u001b[0m\n\u001b[1;32m      1\u001b[0m \u001b[1;31m#optimize for 100 iterations\u001b[0m\u001b[1;33m\u001b[0m\u001b[1;33m\u001b[0m\u001b[0m\n\u001b[0;32m----> 2\u001b[0;31m \u001b[0moptimize\u001b[0m\u001b[1;33m(\u001b[0m\u001b[1;36m99\u001b[0m\u001b[1;33m)\u001b[0m\u001b[1;33m\u001b[0m\u001b[0m\n\u001b[0m",
      "\u001b[0;32m<ipython-input-59-f38f7ec4312a>\u001b[0m in \u001b[0;36moptimize\u001b[0;34m(num_iterations)\u001b[0m\n\u001b[1;32m      6\u001b[0m     \u001b[0mstart\u001b[0m \u001b[1;33m=\u001b[0m \u001b[0mtime\u001b[0m\u001b[1;33m.\u001b[0m\u001b[0mtime\u001b[0m\u001b[1;33m(\u001b[0m\u001b[1;33m)\u001b[0m\u001b[1;33m\u001b[0m\u001b[0m\n\u001b[1;32m      7\u001b[0m     \u001b[1;32mfor\u001b[0m \u001b[0mi\u001b[0m \u001b[1;32min\u001b[0m \u001b[0mrange\u001b[0m\u001b[1;33m(\u001b[0m\u001b[0mtotal_iterations\u001b[0m\u001b[1;33m,\u001b[0m\u001b[0mtotal_iterations\u001b[0m\u001b[1;33m+\u001b[0m\u001b[0mnum_iterations\u001b[0m\u001b[1;33m)\u001b[0m\u001b[1;33m:\u001b[0m\u001b[1;33m\u001b[0m\u001b[0m\n\u001b[0;32m----> 8\u001b[0;31m         \u001b[0mx_batch\u001b[0m\u001b[1;33m,\u001b[0m\u001b[0my_true_batch\u001b[0m \u001b[1;33m=\u001b[0m \u001b[0mcreate_training_batch\u001b[0m\u001b[1;33m(\u001b[0m\u001b[0mtrainList\u001b[0m\u001b[1;33m,\u001b[0m\u001b[0mtrain_batch_size\u001b[0m\u001b[1;33m)\u001b[0m\u001b[1;33m\u001b[0m\u001b[0m\n\u001b[0m\u001b[1;32m      9\u001b[0m         \u001b[0mx_batch\u001b[0m \u001b[1;33m=\u001b[0m \u001b[0mnp\u001b[0m\u001b[1;33m.\u001b[0m\u001b[0marray\u001b[0m\u001b[1;33m(\u001b[0m\u001b[1;33m[\u001b[0m\u001b[0mi\u001b[0m \u001b[1;32mfor\u001b[0m \u001b[0mi\u001b[0m \u001b[1;32min\u001b[0m \u001b[0mx_batch\u001b[0m\u001b[1;33m]\u001b[0m\u001b[1;33m)\u001b[0m\u001b[1;33m.\u001b[0m\u001b[0mreshape\u001b[0m\u001b[1;33m(\u001b[0m\u001b[1;33m-\u001b[0m\u001b[1;36m1\u001b[0m\u001b[1;33m,\u001b[0m\u001b[0mimage_size\u001b[0m\u001b[1;33m,\u001b[0m\u001b[0mimage_size\u001b[0m\u001b[1;33m,\u001b[0m\u001b[1;36m1\u001b[0m\u001b[1;33m)\u001b[0m\u001b[1;33m\u001b[0m\u001b[0m\n\u001b[1;32m     10\u001b[0m         \u001b[0mfeed_dict_train\u001b[0m \u001b[1;33m=\u001b[0m \u001b[1;33m{\u001b[0m\u001b[0mx\u001b[0m\u001b[1;33m:\u001b[0m\u001b[0mx_batch\u001b[0m\u001b[1;33m,\u001b[0m\u001b[0my_true\u001b[0m\u001b[1;33m:\u001b[0m\u001b[0my_true_batch\u001b[0m\u001b[1;33m}\u001b[0m\u001b[1;33m\u001b[0m\u001b[0m\n",
      "\u001b[0;32m<ipython-input-41-4ea099925318>\u001b[0m in \u001b[0;36mcreate_training_batch\u001b[0;34m(fileList, batchSize)\u001b[0m\n\u001b[1;32m      8\u001b[0m     \u001b[0mtemp\u001b[0m \u001b[1;33m=\u001b[0m \u001b[0mshuffledList\u001b[0m\u001b[1;33m[\u001b[0m\u001b[1;33m:\u001b[0m\u001b[0mbatchSize\u001b[0m\u001b[1;33m]\u001b[0m\u001b[1;33m\u001b[0m\u001b[0m\n\u001b[1;32m      9\u001b[0m     \u001b[1;32mfor\u001b[0m \u001b[0mi\u001b[0m \u001b[1;32min\u001b[0m \u001b[0mrange\u001b[0m\u001b[1;33m(\u001b[0m\u001b[0mlen\u001b[0m\u001b[1;33m(\u001b[0m\u001b[0mtemp\u001b[0m\u001b[1;33m)\u001b[0m\u001b[1;33m)\u001b[0m\u001b[1;33m:\u001b[0m\u001b[1;33m\u001b[0m\u001b[0m\n\u001b[0;32m---> 10\u001b[0;31m         \u001b[0mimage\u001b[0m\u001b[1;33m,\u001b[0m\u001b[0mlabel\u001b[0m \u001b[1;33m=\u001b[0m \u001b[0mprocess_image\u001b[0m\u001b[1;33m(\u001b[0m\u001b[0mtemp\u001b[0m\u001b[1;33m[\u001b[0m\u001b[0mi\u001b[0m\u001b[1;33m]\u001b[0m\u001b[1;33m)\u001b[0m\u001b[1;33m\u001b[0m\u001b[0m\n\u001b[0m\u001b[1;32m     11\u001b[0m         \u001b[0mbatchImg\u001b[0m\u001b[1;33m.\u001b[0m\u001b[0mappend\u001b[0m\u001b[1;33m(\u001b[0m\u001b[0mimage\u001b[0m\u001b[1;33m)\u001b[0m\u001b[1;33m\u001b[0m\u001b[0m\n\u001b[1;32m     12\u001b[0m         \u001b[0mbatchLabel\u001b[0m\u001b[1;33m.\u001b[0m\u001b[0mappend\u001b[0m\u001b[1;33m(\u001b[0m\u001b[0mlabel\u001b[0m\u001b[1;33m)\u001b[0m\u001b[1;33m\u001b[0m\u001b[0m\n",
      "\u001b[0;32m<ipython-input-4-6fea51d89d62>\u001b[0m in \u001b[0;36mprocess_image\u001b[0;34m(img)\u001b[0m\n\u001b[1;32m      1\u001b[0m \u001b[1;32mdef\u001b[0m \u001b[0mprocess_image\u001b[0m\u001b[1;33m(\u001b[0m\u001b[0mimg\u001b[0m\u001b[1;33m)\u001b[0m\u001b[1;33m:\u001b[0m\u001b[1;33m\u001b[0m\u001b[0m\n\u001b[1;32m      2\u001b[0m     \u001b[1;31m#img is the full path to the image\u001b[0m\u001b[1;33m\u001b[0m\u001b[1;33m\u001b[0m\u001b[0m\n\u001b[0;32m----> 3\u001b[0;31m     \u001b[0mimage\u001b[0m \u001b[1;33m=\u001b[0m \u001b[0mcv2\u001b[0m\u001b[1;33m.\u001b[0m\u001b[0mimread\u001b[0m\u001b[1;33m(\u001b[0m\u001b[0mimg\u001b[0m\u001b[1;33m,\u001b[0m\u001b[0mcv2\u001b[0m\u001b[1;33m.\u001b[0m\u001b[0mIMREAD_COLOR\u001b[0m\u001b[1;33m)\u001b[0m\u001b[1;33m\u001b[0m\u001b[0m\n\u001b[0m\u001b[1;32m      4\u001b[0m     \u001b[0mimage\u001b[0m \u001b[1;33m=\u001b[0m \u001b[0mcv2\u001b[0m\u001b[1;33m.\u001b[0m\u001b[0mcvtColor\u001b[0m\u001b[1;33m(\u001b[0m\u001b[0mimage\u001b[0m\u001b[1;33m,\u001b[0m\u001b[0mcv2\u001b[0m\u001b[1;33m.\u001b[0m\u001b[0mCOLOR_BGR2GRAY\u001b[0m\u001b[1;33m)\u001b[0m\u001b[1;33m\u001b[0m\u001b[0m\n\u001b[1;32m      5\u001b[0m     \u001b[0mimage\u001b[0m \u001b[1;33m=\u001b[0m \u001b[0mresize_image\u001b[0m\u001b[1;33m(\u001b[0m\u001b[0mimage\u001b[0m\u001b[1;33m)\u001b[0m\u001b[1;33m\u001b[0m\u001b[0m\n",
      "\u001b[0;31mKeyboardInterrupt\u001b[0m: "
     ]
    }
   ],
   "source": [
    "#optimize for 100 iterations\n",
    "optimize(99)"
   ]
  },
  {
   "cell_type": "code",
   "execution_count": null,
   "metadata": {
    "collapsed": true
   },
   "outputs": [],
   "source": []
  }
 ],
 "metadata": {
  "kernelspec": {
   "display_name": "Python 3",
   "language": "python",
   "name": "python3"
  },
  "language_info": {
   "codemirror_mode": {
    "name": "ipython",
    "version": 3
   },
   "file_extension": ".py",
   "mimetype": "text/x-python",
   "name": "python",
   "nbconvert_exporter": "python",
   "pygments_lexer": "ipython3",
   "version": "3.6.0"
  }
 },
 "nbformat": 4,
 "nbformat_minor": 2
}
