{
 "cells": [
  {
   "cell_type": "code",
   "execution_count": 1,
   "metadata": {
    "collapsed": true
   },
   "outputs": [],
   "source": [
    "import tensorflow as tf\n",
    "import numpy as np\n",
    "import matplotlib.pyplot as plt\n",
    "import os\n",
    "import cv2\n",
    "import pandas as pd\n",
    "from tqdm import tqdm"
   ]
  },
  {
   "cell_type": "markdown",
   "metadata": {},
   "source": [
    "Specifications\n",
    "---------------"
   ]
  },
  {
   "cell_type": "code",
   "execution_count": 2,
   "metadata": {
    "collapsed": true
   },
   "outputs": [],
   "source": [
    "#specifications\n",
    "input_size = 64\n",
    "num_channels = 1 #grayscale image\n",
    "filter_size = 3\n",
    "filter_stride = 1\n",
    "pool_size = 2\n",
    "pool_stride = 2\n",
    "filter_depth1 = 32\n",
    "filter_depth2 = 64\n",
    "\n",
    "fc_layer1 = 1024 #number of neurons in the first fully connected layer\n",
    "fc_layer2 = 2 #number of output neurons\n",
    "num_classes = 2 #cat and dog"
   ]
  },
  {
   "cell_type": "markdown",
   "metadata": {},
   "source": [
    "Image Preprocessing\n",
    "---------------------"
   ]
  },
  {
   "cell_type": "code",
   "execution_count": 3,
   "metadata": {
    "collapsed": true
   },
   "outputs": [],
   "source": [
    "def resize_image(image):\n",
    "    image = cv2.resize(image,(input_size,input_size),cv2.INTER_CUBIC)\n",
    "    return image"
   ]
  },
  {
   "cell_type": "code",
   "execution_count": 4,
   "metadata": {
    "collapsed": true
   },
   "outputs": [],
   "source": [
    "def get_image_label(image):\n",
    "    #image is the path to the image\n",
    "    parts = image.split(\".\")\n",
    "    if parts[-3]==\"cat\":\n",
    "        return [1,0]\n",
    "    if parts[-3]==\"dog\":\n",
    "        return [0,1]"
   ]
  },
  {
   "cell_type": "code",
   "execution_count": 5,
   "metadata": {
    "collapsed": true
   },
   "outputs": [],
   "source": [
    "def create_train_data():\n",
    "    training_data = []\n",
    "    for img in tqdm(os.listdir(\"data//train\")):\n",
    "        label = get_image_label(img)\n",
    "        path = os.path.join(\"data//train\",img)\n",
    "        img = cv2.imread(path,cv2.IMREAD_GRAYSCALE)\n",
    "        img = resize_image(img)\n",
    "        training_data.append([np.array(img),np.array(label)])\n",
    "    np.random.shuffle(training_data)\n",
    "    np.save('train_data.npy',training_data)\n",
    "    return training_data"
   ]
  },
  {
   "cell_type": "code",
   "execution_count": 6,
   "metadata": {
    "collapsed": false
   },
   "outputs": [
    {
     "name": "stderr",
     "output_type": "stream",
     "text": [
      "100%|████████████████████████████████████████████████████████████████████████████| 25000/25000 [08:15<00:00, 50.42it/s]\n"
     ]
    }
   ],
   "source": [
    "train_data = create_train_data()\n",
    "#else load : train_data = np.load(train_data.npy)"
   ]
  },
  {
   "cell_type": "markdown",
   "metadata": {},
   "source": [
    "Helper Functions\n",
    "-----------------"
   ]
  },
  {
   "cell_type": "code",
   "execution_count": 40,
   "metadata": {
    "collapsed": true
   },
   "outputs": [],
   "source": [
    "#functions to create new variables\n",
    "def new_weights(shape):\n",
    "    return tf.Variable(tf.truncated_normal(shape,stddev=0.05))\n",
    "def new_biases(length):\n",
    "    return tf.Variable(tf.constant(0.05,shape=[length]))"
   ]
  },
  {
   "cell_type": "code",
   "execution_count": 8,
   "metadata": {
    "collapsed": true
   },
   "outputs": [],
   "source": [
    "#function to create a convolutional layer\n",
    "#input=[image number,rows,columns,channels]\n",
    "#output=[image number,r',c',ch']\n",
    "#layer : conv->relu->pool\n",
    "def conv_layer(input,num_channels,filter_size,num_filters,use_pooling=True):\n",
    "    #shape of filters as defined by tensorflow API\n",
    "    shape = [filter_size,filter_size,num_channels,num_filters]\n",
    "    weights = new_weights(shape)\n",
    "    biases = new_biases(num_filters)\n",
    "    layer = tf.nn.conv2d(input=input,filter=weights,strides=[1,1,1,1],padding='SAME')\n",
    "    layer+= biases\n",
    "    layer = tf.nn.relu(layer)\n",
    "    if use_pooling:\n",
    "        layer = tf.nn.max_pool(value = layer,ksize = [1,2,2,1],strides = [1,2,2,1],padding = 'SAME')\n",
    "    return layer,weights"
   ]
  },
  {
   "cell_type": "code",
   "execution_count": 9,
   "metadata": {
    "collapsed": true
   },
   "outputs": [],
   "source": [
    "#function to flatten 4d tensor\n",
    "#to feed into fully connected layer\n",
    "def flatten(layer):\n",
    "    layer_shape = layer.get_shape()\n",
    "    num_features = layer_shape[1:4].num_elements()\n",
    "    layer_flat = tf.reshape(layer,[-1,num_features])\n",
    "    return layer_flat,num_features"
   ]
  },
  {
   "cell_type": "code",
   "execution_count": 41,
   "metadata": {
    "collapsed": true
   },
   "outputs": [],
   "source": [
    "def new_fc_layer(input,num_inputs,num_outputs,use_relu=True):\n",
    "    weights = new_weights(shape = [num_inputs,num_outputs])\n",
    "    biases = new_biases(length = num_outputs)\n",
    "    layer = tf.matmul(input,weights)+biases\n",
    "    if use_relu:\n",
    "        layer = tf.nn.relu(layer)\n",
    "    return layer"
   ]
  },
  {
   "cell_type": "markdown",
   "metadata": {},
   "source": [
    "Model Parameters \n",
    "-----------------"
   ]
  },
  {
   "cell_type": "code",
   "execution_count": 42,
   "metadata": {
    "collapsed": false
   },
   "outputs": [
    {
     "name": "stdout",
     "output_type": "stream",
     "text": [
      "Tensor(\"x_1:0\", shape=(?, 64, 64, 1), dtype=float32)\n"
     ]
    }
   ],
   "source": [
    "x = tf.placeholder(tf.float32,[None,input_size,input_size,num_channels],name='x')\n",
    "print(x)"
   ]
  },
  {
   "cell_type": "code",
   "execution_count": 43,
   "metadata": {
    "collapsed": false
   },
   "outputs": [
    {
     "name": "stdout",
     "output_type": "stream",
     "text": [
      "Tensor(\"y_true_1:0\", shape=(?, 2), dtype=float32)\n"
     ]
    }
   ],
   "source": [
    "y_true = tf.placeholder(tf.float32,shape = [None,num_classes],name='y_true')\n",
    "print(y_true)"
   ]
  },
  {
   "cell_type": "code",
   "execution_count": 44,
   "metadata": {
    "collapsed": false
   },
   "outputs": [
    {
     "name": "stdout",
     "output_type": "stream",
     "text": [
      "Tensor(\"y_true_class_1:0\", shape=(?,), dtype=int64)\n"
     ]
    }
   ],
   "source": [
    "y_true_class = tf.argmax(y_true,dimension=1,name='y_true_class')\n",
    "print(y_true_class)"
   ]
  },
  {
   "cell_type": "code",
   "execution_count": 45,
   "metadata": {
    "collapsed": false
   },
   "outputs": [
    {
     "name": "stdout",
     "output_type": "stream",
     "text": [
      "Tensor(\"MaxPool_6:0\", shape=(?, 32, 32, 32), dtype=float32)\n",
      "<tf.Variable 'Variable_16:0' shape=(3, 3, 1, 32) dtype=float32_ref>\n"
     ]
    }
   ],
   "source": [
    "conv1,weights1 = conv_layer(x,num_channels,filter_size,32)\n",
    "print(conv1)\n",
    "print(weights1)"
   ]
  },
  {
   "cell_type": "code",
   "execution_count": 46,
   "metadata": {
    "collapsed": false
   },
   "outputs": [
    {
     "name": "stdout",
     "output_type": "stream",
     "text": [
      "Tensor(\"MaxPool_7:0\", shape=(?, 16, 16, 64), dtype=float32)\n",
      "<tf.Variable 'Variable_18:0' shape=(3, 3, 32, 64) dtype=float32_ref>\n"
     ]
    }
   ],
   "source": [
    "conv2,weights2 = conv_layer(conv1,filter_depth1,filter_size,64)\n",
    "print(conv2)\n",
    "print(weights2)"
   ]
  },
  {
   "cell_type": "code",
   "execution_count": 47,
   "metadata": {
    "collapsed": false
   },
   "outputs": [
    {
     "name": "stdout",
     "output_type": "stream",
     "text": [
      "Tensor(\"MaxPool_8:0\", shape=(?, 8, 8, 32), dtype=float32)\n",
      "<tf.Variable 'Variable_20:0' shape=(3, 3, 64, 32) dtype=float32_ref>\n"
     ]
    }
   ],
   "source": [
    "conv3,weights3 = conv_layer(conv2,filter_depth2,filter_size,32)\n",
    "print(conv3)\n",
    "print(weights3)"
   ]
  },
  {
   "cell_type": "code",
   "execution_count": 48,
   "metadata": {
    "collapsed": false
   },
   "outputs": [
    {
     "name": "stdout",
     "output_type": "stream",
     "text": [
      "Tensor(\"MaxPool_9:0\", shape=(?, 4, 4, 64), dtype=float32)\n",
      "<tf.Variable 'Variable_22:0' shape=(3, 3, 32, 64) dtype=float32_ref>\n"
     ]
    }
   ],
   "source": [
    "conv4,weights4 = conv_layer(conv3,filter_depth1,filter_size,64)\n",
    "print(conv4)\n",
    "print(weights4)"
   ]
  },
  {
   "cell_type": "code",
   "execution_count": 49,
   "metadata": {
    "collapsed": false
   },
   "outputs": [
    {
     "name": "stdout",
     "output_type": "stream",
     "text": [
      "Tensor(\"MaxPool_10:0\", shape=(?, 2, 2, 32), dtype=float32)\n",
      "<tf.Variable 'Variable_24:0' shape=(3, 3, 64, 32) dtype=float32_ref>\n"
     ]
    }
   ],
   "source": [
    "conv5,weights5 = conv_layer(conv4,filter_depth2,filter_size,32)\n",
    "print(conv5)\n",
    "print(weights5)"
   ]
  },
  {
   "cell_type": "code",
   "execution_count": 50,
   "metadata": {
    "collapsed": false
   },
   "outputs": [
    {
     "name": "stdout",
     "output_type": "stream",
     "text": [
      "Tensor(\"MaxPool_11:0\", shape=(?, 1, 1, 64), dtype=float32)\n",
      "<tf.Variable 'Variable_26:0' shape=(3, 3, 32, 64) dtype=float32_ref>\n"
     ]
    }
   ],
   "source": [
    "conv6,weights6 = conv_layer(conv5,filter_depth1,filter_size,64)\n",
    "print(conv6)\n",
    "print(weights6)"
   ]
  },
  {
   "cell_type": "code",
   "execution_count": 51,
   "metadata": {
    "collapsed": false
   },
   "outputs": [
    {
     "name": "stdout",
     "output_type": "stream",
     "text": [
      "Tensor(\"Reshape_4:0\", shape=(?, 64), dtype=float32)\n",
      "64\n"
     ]
    }
   ],
   "source": [
    "#flatten the output of conv6\n",
    "flat_layer1,num_features = flatten(conv6)\n",
    "print(flat_layer1)\n",
    "print(num_features)"
   ]
  },
  {
   "cell_type": "code",
   "execution_count": 52,
   "metadata": {
    "collapsed": false
   },
   "outputs": [
    {
     "name": "stdout",
     "output_type": "stream",
     "text": [
      "Tensor(\"Relu_14:0\", shape=(?, 1024), dtype=float32)\n"
     ]
    }
   ],
   "source": [
    "#fully connected layer 1\n",
    "fc1 = new_fc_layer(input = flat_layer1,num_inputs = num_features,num_outputs = fc_layer1)\n",
    "print(fc1)"
   ]
  },
  {
   "cell_type": "code",
   "execution_count": 53,
   "metadata": {
    "collapsed": false
   },
   "outputs": [
    {
     "name": "stdout",
     "output_type": "stream",
     "text": [
      "Tensor(\"Relu_15:0\", shape=(?, 2), dtype=float32)\n"
     ]
    }
   ],
   "source": [
    "fc2 = new_fc_layer(input = fc1, num_inputs = fc_layer1, num_outputs = fc_layer2)\n",
    "print(fc2)"
   ]
  },
  {
   "cell_type": "code",
   "execution_count": 54,
   "metadata": {
    "collapsed": false
   },
   "outputs": [
    {
     "name": "stdout",
     "output_type": "stream",
     "text": [
      "Tensor(\"Softmax_1:0\", shape=(?, 2), dtype=float32)\n"
     ]
    }
   ],
   "source": [
    "#prediction\n",
    "y_pred = tf.nn.softmax(fc2)\n",
    "print(y_pred)"
   ]
  },
  {
   "cell_type": "code",
   "execution_count": 55,
   "metadata": {
    "collapsed": false
   },
   "outputs": [
    {
     "name": "stdout",
     "output_type": "stream",
     "text": [
      "Tensor(\"ArgMax_1:0\", shape=(?,), dtype=int64)\n"
     ]
    }
   ],
   "source": [
    "y_pred_cls = tf.argmax(y_pred,dimension=1)\n",
    "print(y_pred_cls)"
   ]
  },
  {
   "cell_type": "code",
   "execution_count": 94,
   "metadata": {
    "collapsed": true
   },
   "outputs": [],
   "source": [
    "#cross entropy loss function\n",
    "#change this\n",
    "cross_entropy = -tf.reduce_sum(y_true*tf.log(tf.clip_by_value(y_pred,1e-10,1.0)),1)\n",
    "#cross_entropy = tf.nn.softmax_cross_entropy_with_logits(logits=fc2,labels=y_true)"
   ]
  },
  {
   "cell_type": "code",
   "execution_count": 76,
   "metadata": {
    "collapsed": true
   },
   "outputs": [],
   "source": [
    "cost = tf.reduce_mean(cross_entropy)"
   ]
  },
  {
   "cell_type": "code",
   "execution_count": 77,
   "metadata": {
    "collapsed": true
   },
   "outputs": [],
   "source": [
    "optimizer = tf.train.AdamOptimizer(learning_rate=1e-4).minimize(cost)"
   ]
  },
  {
   "cell_type": "code",
   "execution_count": 78,
   "metadata": {
    "collapsed": true
   },
   "outputs": [],
   "source": [
    "correct_prediction = tf.equal(y_pred_cls,y_true_class)\n",
    "accuracy = tf.reduce_mean(tf.cast(correct_prediction,tf.float32))"
   ]
  },
  {
   "cell_type": "code",
   "execution_count": 70,
   "metadata": {
    "collapsed": false
   },
   "outputs": [
    {
     "name": "stdout",
     "output_type": "stream",
     "text": [
      "25000\n",
      "64\n",
      "[0 1]\n"
     ]
    }
   ],
   "source": [
    "print(len(train_data))\n",
    "print(len(train_data[0][0][0]))\n",
    "print(train_data[0][1])"
   ]
  },
  {
   "cell_type": "code",
   "execution_count": 61,
   "metadata": {
    "collapsed": false
   },
   "outputs": [
    {
     "name": "stdout",
     "output_type": "stream",
     "text": [
      "24500\n",
      "500\n"
     ]
    }
   ],
   "source": [
    "train = train_data[:-500]\n",
    "test = train_data[-500:]\n",
    "print(len(train))\n",
    "print(len(test))"
   ]
  },
  {
   "cell_type": "code",
   "execution_count": 62,
   "metadata": {
    "collapsed": false
   },
   "outputs": [
    {
     "name": "stdout",
     "output_type": "stream",
     "text": [
      "(24500, 64, 64, 1)\n",
      "(24500, 2)\n",
      "24500\n",
      "(500, 64, 64, 1)\n",
      "[0 1]\n",
      "[[0 1]\n",
      " [0 1]\n",
      " [1 0]]\n"
     ]
    }
   ],
   "source": [
    "X = np.array([i[0] for i in train]).reshape(-1,input_size,input_size,1)\n",
    "Y = np.array([i[1] for i in train])\n",
    "print(X.shape)\n",
    "print(Y.shape)\n",
    "print(len(Y))\n",
    "test_x = np.array([i[0] for i in test]).reshape(-1,input_size,input_size,1)\n",
    "test_y = np.array([i[1] for i in test])\n",
    "print(test_x.shape)\n",
    "print(Y[0])\n",
    "print(Y[:3])"
   ]
  },
  {
   "cell_type": "markdown",
   "metadata": {},
   "source": [
    "Training step\n",
    "--------------"
   ]
  },
  {
   "cell_type": "code",
   "execution_count": 100,
   "metadata": {
    "collapsed": true
   },
   "outputs": [],
   "source": [
    "session = tf.Session()\n",
    "session.run(tf.global_variables_initializer())"
   ]
  },
  {
   "cell_type": "code",
   "execution_count": 99,
   "metadata": {
    "collapsed": true
   },
   "outputs": [],
   "source": [
    "batch_size = 128\n",
    "#128 was good\n",
    "total_epochs = 0\n",
    "import time\n",
    "from datetime import timedelta\n",
    "def optimize(num_epochs):\n",
    "    global total_epochs\n",
    "    start = time.time()\n",
    "    for i in range(num_epochs):\n",
    "        for total_iterations in range(300):\n",
    "            start = (total_iterations*batch_size)%24500\n",
    "            end = ((total_iterations+1)*batch_size)%24500\n",
    "            x_batch = X[start:end]\n",
    "            y_batch = Y[start:end]\n",
    "            feed_dict_train = {x:x_batch,y_true:y_batch}\n",
    "            session.run(optimizer,feed_dict = feed_dict_train)\n",
    "            \n",
    "            if total_iterations%50 == 0:\n",
    "                acc = session.run(accuracy,feed_dict = feed_dict_train)\n",
    "                msg = \"Optimization iteration:{0:>6}, Training Accuracy:{1:>6.1%}\"\n",
    "                print(msg.format(total_iterations+1,acc))\n",
    "        total_epochs+=1\n",
    "        end = time.time()\n",
    "        print(\"Time usage:\"+str(timedelta(seconds=int(round(end-start)))))"
   ]
  },
  {
   "cell_type": "code",
   "execution_count": 101,
   "metadata": {
    "collapsed": false
   },
   "outputs": [
    {
     "name": "stdout",
     "output_type": "stream",
     "text": [
      "Optimization iteration:     1, Training Accuracy: 51.6%\n",
      "Optimization iteration:    51, Training Accuracy: 54.7%\n",
      "Optimization iteration:   101, Training Accuracy: 57.8%\n",
      "Optimization iteration:   151, Training Accuracy: 68.8%\n",
      "Optimization iteration:   201, Training Accuracy: 68.8%\n",
      "Optimization iteration:   251, Training Accuracy: 68.8%\n",
      "Time usage:17416 days, 2:00:37\n"
     ]
    }
   ],
   "source": [
    "optimize(1)"
   ]
  },
  {
   "cell_type": "code",
   "execution_count": 102,
   "metadata": {
    "collapsed": false
   },
   "outputs": [
    {
     "data": {
      "text/plain": [
       "1"
      ]
     },
     "execution_count": 102,
     "metadata": {},
     "output_type": "execute_result"
    }
   ],
   "source": [
    "total_epochs"
   ]
  },
  {
   "cell_type": "code",
   "execution_count": 103,
   "metadata": {
    "collapsed": false
   },
   "outputs": [
    {
     "name": "stdout",
     "output_type": "stream",
     "text": [
      "Optimization iteration:     1, Training Accuracy: 72.7%\n",
      "Optimization iteration:    51, Training Accuracy: 66.4%\n",
      "Optimization iteration:   101, Training Accuracy: 71.1%\n",
      "Optimization iteration:   151, Training Accuracy: 72.7%\n",
      "Optimization iteration:   201, Training Accuracy: 76.6%\n",
      "Optimization iteration:   251, Training Accuracy: 75.0%\n",
      "Time usage:17416 days, 2:12:08\n",
      "Optimization iteration:     1, Training Accuracy: 72.7%\n",
      "Optimization iteration:    51, Training Accuracy: 78.1%\n",
      "Optimization iteration:   101, Training Accuracy: 80.5%\n",
      "Optimization iteration:   151, Training Accuracy: 75.0%\n",
      "Optimization iteration:   201, Training Accuracy: 80.5%\n",
      "Optimization iteration:   251, Training Accuracy: 80.5%\n",
      "Time usage:17416 days, 2:22:46\n"
     ]
    }
   ],
   "source": [
    "optimize(2)"
   ]
  },
  {
   "cell_type": "code",
   "execution_count": 104,
   "metadata": {
    "collapsed": false
   },
   "outputs": [
    {
     "name": "stdout",
     "output_type": "stream",
     "text": [
      "validation accuracy:0.728000\n"
     ]
    }
   ],
   "source": [
    "#test for validation accuracy\n",
    "val_dict = {x:test_x,y_true:test_y}\n",
    "acc = session.run(accuracy,feed_dict = val_dict)\n",
    "print(\"validation accuracy:%f\"%(acc))"
   ]
  },
  {
   "cell_type": "code",
   "execution_count": 105,
   "metadata": {
    "collapsed": false
   },
   "outputs": [
    {
     "name": "stdout",
     "output_type": "stream",
     "text": [
      "Optimization iteration:     1, Training Accuracy: 75.0%\n",
      "Optimization iteration:    51, Training Accuracy: 78.1%\n",
      "Optimization iteration:   101, Training Accuracy: 81.2%\n",
      "Optimization iteration:   151, Training Accuracy: 74.2%\n",
      "Optimization iteration:   201, Training Accuracy: 83.6%\n",
      "Optimization iteration:   251, Training Accuracy: 84.4%\n",
      "Time usage:17416 days, 2:37:39\n",
      "Optimization iteration:     1, Training Accuracy: 76.6%\n",
      "Optimization iteration:    51, Training Accuracy: 84.4%\n",
      "Optimization iteration:   101, Training Accuracy: 82.8%\n",
      "Optimization iteration:   151, Training Accuracy: 75.0%\n",
      "Optimization iteration:   201, Training Accuracy: 84.4%\n",
      "Optimization iteration:   251, Training Accuracy: 87.5%\n",
      "Time usage:17416 days, 2:47:54\n"
     ]
    }
   ],
   "source": [
    "optimize(2)"
   ]
  },
  {
   "cell_type": "code",
   "execution_count": 106,
   "metadata": {
    "collapsed": false
   },
   "outputs": [
    {
     "name": "stdout",
     "output_type": "stream",
     "text": [
      "validation accuracy:0.746000\n"
     ]
    }
   ],
   "source": [
    "#test for validation accuracy\n",
    "val_dict = {x:test_x,y_true:test_y}\n",
    "acc = session.run(accuracy,feed_dict = val_dict)\n",
    "print(\"validation accuracy:%f\"%(acc))"
   ]
  },
  {
   "cell_type": "code",
   "execution_count": 107,
   "metadata": {
    "collapsed": false
   },
   "outputs": [
    {
     "data": {
      "text/plain": [
       "5"
      ]
     },
     "execution_count": 107,
     "metadata": {},
     "output_type": "execute_result"
    }
   ],
   "source": [
    "total_epochs"
   ]
  },
  {
   "cell_type": "code",
   "execution_count": 108,
   "metadata": {
    "collapsed": false
   },
   "outputs": [
    {
     "name": "stdout",
     "output_type": "stream",
     "text": [
      "Optimization iteration:     1, Training Accuracy: 78.1%\n",
      "Optimization iteration:    51, Training Accuracy: 87.5%\n",
      "Optimization iteration:   101, Training Accuracy: 86.7%\n",
      "Optimization iteration:   151, Training Accuracy: 76.6%\n",
      "Optimization iteration:   201, Training Accuracy: 85.9%\n",
      "Optimization iteration:   251, Training Accuracy: 89.8%\n",
      "Time usage:17416 days, 2:58:37\n",
      "Optimization iteration:     1, Training Accuracy: 84.4%\n",
      "Optimization iteration:    51, Training Accuracy: 88.3%\n",
      "Optimization iteration:   101, Training Accuracy: 89.8%\n",
      "Optimization iteration:   151, Training Accuracy: 78.1%\n",
      "Optimization iteration:   201, Training Accuracy: 87.5%\n",
      "Optimization iteration:   251, Training Accuracy: 92.2%\n",
      "Time usage:17416 days, 3:08:43\n",
      "Optimization iteration:     1, Training Accuracy: 84.4%\n",
      "Optimization iteration:    51, Training Accuracy: 90.6%\n",
      "Optimization iteration:   101, Training Accuracy: 92.2%\n",
      "Optimization iteration:   151, Training Accuracy: 75.8%\n",
      "Optimization iteration:   201, Training Accuracy: 87.5%\n",
      "Optimization iteration:   251, Training Accuracy: 96.1%\n",
      "Time usage:17416 days, 3:18:46\n"
     ]
    }
   ],
   "source": [
    "optimize(3)"
   ]
  },
  {
   "cell_type": "code",
   "execution_count": 109,
   "metadata": {
    "collapsed": false
   },
   "outputs": [
    {
     "name": "stdout",
     "output_type": "stream",
     "text": [
      "validation accuracy:0.734000\n"
     ]
    }
   ],
   "source": [
    "#test for validation accuracy\n",
    "val_dict = {x:test_x,y_true:test_y}\n",
    "acc = session.run(accuracy,feed_dict = val_dict)\n",
    "print(\"validation accuracy:%f\"%(acc))"
   ]
  },
  {
   "cell_type": "code",
   "execution_count": 110,
   "metadata": {
    "collapsed": true
   },
   "outputs": [],
   "source": [
    "#create saver to save the model\n",
    "saver = tf.train.Saver()"
   ]
  },
  {
   "cell_type": "code",
   "execution_count": 111,
   "metadata": {
    "collapsed": false
   },
   "outputs": [
    {
     "data": {
      "text/plain": [
       "8"
      ]
     },
     "execution_count": 111,
     "metadata": {},
     "output_type": "execute_result"
    }
   ],
   "source": [
    "total_epochs"
   ]
  },
  {
   "cell_type": "markdown",
   "metadata": {},
   "source": [
    "Saving the model\n",
    "------------------"
   ]
  },
  {
   "cell_type": "code",
   "execution_count": 114,
   "metadata": {
    "collapsed": false
   },
   "outputs": [
    {
     "data": {
      "text/plain": [
       "'model\\\\my_model.tfm-2400'"
      ]
     },
     "execution_count": 114,
     "metadata": {},
     "output_type": "execute_result"
    }
   ],
   "source": [
    "saver.save(session,'model\\\\my_model.tfm',global_step = 2400)"
   ]
  },
  {
   "cell_type": "markdown",
   "metadata": {},
   "source": [
    "More helper functions\n",
    "---------------------"
   ]
  },
  {
   "cell_type": "code",
   "execution_count": 127,
   "metadata": {
    "collapsed": false
   },
   "outputs": [],
   "source": [
    "def process_test_data():\n",
    "    testing_data = []\n",
    "    for img in tqdm(os.listdir(\"data//test1\")):\n",
    "        path = os.path.join(\"data//test1\",img)\n",
    "        img_num = img.split('.')[0]\n",
    "        img = cv2.imread(path,cv2.IMREAD_GRAYSCALE)\n",
    "        img = cv2.resize(img, (input_size,input_size))\n",
    "        testing_data.append([np.array(img), img_num])\n",
    "    np.random.shuffle(testing_data)\n",
    "    np.save('test_data.npy', testing_data)\n",
    "    return testing_data"
   ]
  },
  {
   "cell_type": "code",
   "execution_count": 128,
   "metadata": {
    "collapsed": false
   },
   "outputs": [
    {
     "name": "stderr",
     "output_type": "stream",
     "text": [
      "100%|████████████████████████████████████████████████████████████████████████████| 12500/12500 [03:13<00:00, 64.45it/s]\n"
     ]
    }
   ],
   "source": [
    "test_data = process_test_data()"
   ]
  },
  {
   "cell_type": "code",
   "execution_count": 139,
   "metadata": {
    "collapsed": true
   },
   "outputs": [],
   "source": [
    "def predict(pred_batch):\n",
    "    feed_dict = {x:pred_batch}\n",
    "    pred_cls = session.run(y_pred_cls,feed_dict = feed_dict)\n",
    "    return pred_cls"
   ]
  },
  {
   "cell_type": "code",
   "execution_count": 130,
   "metadata": {
    "collapsed": false
   },
   "outputs": [
    {
     "name": "stdout",
     "output_type": "stream",
     "text": [
      "[array([[118, 118, 123, ..., 130,  97,  99],\n",
      "       [124, 129, 126, ..., 142, 113, 100],\n",
      "       [125, 122, 122, ..., 146, 139, 153],\n",
      "       ..., \n",
      "       [174, 171, 177, ...,  81,  82,  91],\n",
      "       [178, 176, 175, ...,  96,  74, 114],\n",
      "       [173, 172, 176, ...,  87,  96, 120]], dtype=uint8), '10223']\n"
     ]
    }
   ],
   "source": [
    "print(test_data[0])"
   ]
  },
  {
   "cell_type": "markdown",
   "metadata": {},
   "source": [
    "Making Predictions\n",
    "--------------------"
   ]
  },
  {
   "cell_type": "code",
   "execution_count": 145,
   "metadata": {
    "collapsed": false
   },
   "outputs": [
    {
     "data": {
      "image/png": "[encoded data removed]",
      "text/plain": [
       "<matplotlib.figure.Figure at 0xea424b1908>"
      ]
     },
     "metadata": {},
     "output_type": "display_data"
    }
   ],
   "source": [
    "fig = plt.figure()\n",
    "\n",
    "for num,data in enumerate(test_data[:12]):\n",
    "    #cat:[1,0]\n",
    "    #dog:[0,1]\n",
    "    img_num = data[1]\n",
    "    img_data = data[0]\n",
    "    y = fig.add_subplot(3,4,num+1)\n",
    "    orig = img_data\n",
    "    orig = orig.reshape(input_size,input_size,1)\n",
    "    model_out = predict([orig])\n",
    "    if model_out == 1: str_label='Dog'\n",
    "    else: str_label='Cat'\n",
    "    y.imshow(img_data,cmap='gray')\n",
    "    plt.title(str_label)\n",
    "    y.axes.get_xaxis().set_visible(False)\n",
    "    y.axes.get_yaxis().set_visible(False)\n",
    "plt.show()"
   ]
  },
  {
   "cell_type": "markdown",
   "metadata": {},
   "source": [
    "Create submission file\n",
    "-----------------------"
   ]
  },
  {
   "cell_type": "code",
   "execution_count": 149,
   "metadata": {
    "collapsed": false
   },
   "outputs": [
    {
     "name": "stderr",
     "output_type": "stream",
     "text": [
      "100%|███████████████████████████████████████████████████████████████████████████| 12500/12500 [01:46<00:00, 117.72it/s]\n"
     ]
    }
   ],
   "source": [
    "with open('predictions.csv','w') as f:\n",
    "    f.write('id,label\\n')\n",
    "    for data in tqdm(test_data):\n",
    "        img_num = data[1]\n",
    "        img_data = data[0]\n",
    "        orig = img_data\n",
    "        orig = orig.reshape(input_size,input_size,1)\n",
    "        model_out = predict([orig])\n",
    "        f.write('{},{}\\n'.format(img_num,model_out[0]))"
   ]
  }
 ],
 "metadata": {
  "kernelspec": {
   "display_name": "Python 3",
   "language": "python",
   "name": "python3"
  },
  "language_info": {
   "codemirror_mode": {
    "name": "ipython",
    "version": 3
   },
   "file_extension": ".py",
   "mimetype": "text/x-python",
   "name": "python",
   "nbconvert_exporter": "python",
   "pygments_lexer": "ipython3",
   "version": "3.6.0"
  }
 },
 "nbformat": 4,
 "nbformat_minor": 2
}
